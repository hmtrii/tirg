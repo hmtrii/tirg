{
  "nbformat": 4,
  "nbformat_minor": 0,
  "metadata": {
    "colab": {
      "name": "Compute_recall.ipynb",
      "provenance": [],
      "mount_file_id": "1xJ2ZCpQE45fBh1GtMDt3HmMyhY8ogqEa",
      "authorship_tag": "ABX9TyPXFTIWVKfWJeOJXJEBx1Nn",
      "include_colab_link": true
    },
    "kernelspec": {
      "name": "python3",
      "display_name": "Python 3"
    },
    "accelerator": "GPU"
  },
  "cells": [
    {
      "cell_type": "markdown",
      "metadata": {
        "id": "view-in-github",
        "colab_type": "text"
      },
      "source": [
        "<a href=\"https://colab.research.google.com/github/hmtrii/tirg/blob/main/Compute_recall.ipynb\" target=\"_parent\"><img src=\"https://colab.research.google.com/assets/colab-badge.svg\" alt=\"Open In Colab\"/></a>"
      ]
    },
    {
      "cell_type": "markdown",
      "metadata": {
        "id": "gLwLuW2_dWRp"
      },
      "source": [
        "# INSTALL"
      ]
    },
    {
      "cell_type": "code",
      "metadata": {
        "colab": {
          "base_uri": "https://localhost:8080/"
        },
        "id": "0AfCDwglHa42",
        "outputId": "82f91d5e-bb9c-4d26-8355-56f26fbcaa49"
      },
      "source": [
        "!git clone https://github.com/hmtrii/tirg.git"
      ],
      "execution_count": 1,
      "outputs": [
        {
          "output_type": "stream",
          "text": [
            "Cloning into 'tirg'...\n",
            "remote: Enumerating objects: 80, done.\u001b[K\n",
            "remote: Counting objects: 100% (80/80), done.\u001b[K\n",
            "remote: Compressing objects: 100% (52/52), done.\u001b[K\n",
            "remote: Total 80 (delta 42), reused 64 (delta 26), pack-reused 0\u001b[K\n",
            "Unpacking objects: 100% (80/80), done.\n"
          ],
          "name": "stdout"
        }
      ]
    },
    {
      "cell_type": "code",
      "metadata": {
        "id": "nFtMdH2JL0t5"
      },
      "source": [
        "!rm -rf /content/Fashion200k\n",
        "!mkdir /content/Fashion200k\n",
        "!cp -r /content/drive/MyDrive/TIRG/dataset/fashion-200k/labels /content/Fashion200k\n",
        "!cp /content/drive/MyDrive/TIRG/dataset/test_queries.txt /content/Fashion200k\n",
        "!mkdir /content/Fashion200k/women"
      ],
      "execution_count": 2,
      "outputs": []
    },
    {
      "cell_type": "code",
      "metadata": {
        "id": "udvOUNWT3JxZ"
      },
      "source": [
        "!tar -xf /content/drive/MyDrive/TIRG/dataset/fashion-200k/women.tar.gz -C /content/Fashion200k/women"
      ],
      "execution_count": 3,
      "outputs": []
    },
    {
      "cell_type": "code",
      "metadata": {
        "colab": {
          "base_uri": "https://localhost:8080/"
        },
        "id": "u9b8NIwraH8L",
        "outputId": "037250ff-57f4-4f44-9c14-c69a8c8709d5"
      },
      "source": [
        "!pip install tensorboardX"
      ],
      "execution_count": 4,
      "outputs": [
        {
          "output_type": "stream",
          "text": [
            "Collecting tensorboardX\n",
            "\u001b[?25l  Downloading https://files.pythonhosted.org/packages/af/0c/4f41bcd45db376e6fe5c619c01100e9b7531c55791b7244815bac6eac32c/tensorboardX-2.1-py2.py3-none-any.whl (308kB)\n",
            "\r\u001b[K     |█                               | 10kB 22.7MB/s eta 0:00:01\r\u001b[K     |██▏                             | 20kB 28.5MB/s eta 0:00:01\r\u001b[K     |███▏                            | 30kB 23.3MB/s eta 0:00:01\r\u001b[K     |████▎                           | 40kB 20.7MB/s eta 0:00:01\r\u001b[K     |█████▎                          | 51kB 21.9MB/s eta 0:00:01\r\u001b[K     |██████▍                         | 61kB 16.8MB/s eta 0:00:01\r\u001b[K     |███████▍                        | 71kB 17.2MB/s eta 0:00:01\r\u001b[K     |████████▌                       | 81kB 17.9MB/s eta 0:00:01\r\u001b[K     |█████████▌                      | 92kB 16.1MB/s eta 0:00:01\r\u001b[K     |██████████▋                     | 102kB 17.2MB/s eta 0:00:01\r\u001b[K     |███████████▊                    | 112kB 17.2MB/s eta 0:00:01\r\u001b[K     |████████████▊                   | 122kB 17.2MB/s eta 0:00:01\r\u001b[K     |█████████████▉                  | 133kB 17.2MB/s eta 0:00:01\r\u001b[K     |██████████████▉                 | 143kB 17.2MB/s eta 0:00:01\r\u001b[K     |████████████████                | 153kB 17.2MB/s eta 0:00:01\r\u001b[K     |█████████████████               | 163kB 17.2MB/s eta 0:00:01\r\u001b[K     |██████████████████              | 174kB 17.2MB/s eta 0:00:01\r\u001b[K     |███████████████████             | 184kB 17.2MB/s eta 0:00:01\r\u001b[K     |████████████████████▏           | 194kB 17.2MB/s eta 0:00:01\r\u001b[K     |█████████████████████▎          | 204kB 17.2MB/s eta 0:00:01\r\u001b[K     |██████████████████████▎         | 215kB 17.2MB/s eta 0:00:01\r\u001b[K     |███████████████████████▍        | 225kB 17.2MB/s eta 0:00:01\r\u001b[K     |████████████████████████▍       | 235kB 17.2MB/s eta 0:00:01\r\u001b[K     |█████████████████████████▌      | 245kB 17.2MB/s eta 0:00:01\r\u001b[K     |██████████████████████████▌     | 256kB 17.2MB/s eta 0:00:01\r\u001b[K     |███████████████████████████▋    | 266kB 17.2MB/s eta 0:00:01\r\u001b[K     |████████████████████████████▋   | 276kB 17.2MB/s eta 0:00:01\r\u001b[K     |█████████████████████████████▊  | 286kB 17.2MB/s eta 0:00:01\r\u001b[K     |██████████████████████████████▊ | 296kB 17.2MB/s eta 0:00:01\r\u001b[K     |███████████████████████████████▉| 307kB 17.2MB/s eta 0:00:01\r\u001b[K     |████████████████████████████████| 317kB 17.2MB/s \n",
            "\u001b[?25hRequirement already satisfied: six in /usr/local/lib/python3.6/dist-packages (from tensorboardX) (1.15.0)\n",
            "Requirement already satisfied: protobuf>=3.8.0 in /usr/local/lib/python3.6/dist-packages (from tensorboardX) (3.12.4)\n",
            "Requirement already satisfied: numpy in /usr/local/lib/python3.6/dist-packages (from tensorboardX) (1.18.5)\n",
            "Requirement already satisfied: setuptools in /usr/local/lib/python3.6/dist-packages (from protobuf>=3.8.0->tensorboardX) (50.3.2)\n",
            "Installing collected packages: tensorboardX\n",
            "Successfully installed tensorboardX-2.1\n"
          ],
          "name": "stdout"
        }
      ]
    },
    {
      "cell_type": "code",
      "metadata": {
        "colab": {
          "base_uri": "https://localhost:8080/"
        },
        "id": "RarrJevA66j8",
        "outputId": "c18972c2-2e10-4171-9850-c60f13480b8f"
      },
      "source": [
        "!pip install torch==1.2.0 torchvision==0.4.0    "
      ],
      "execution_count": 5,
      "outputs": [
        {
          "output_type": "stream",
          "text": [
            "Collecting torch==1.2.0\n",
            "\u001b[?25l  Downloading https://files.pythonhosted.org/packages/30/57/d5cceb0799c06733eefce80c395459f28970ebb9e896846ce96ab579a3f1/torch-1.2.0-cp36-cp36m-manylinux1_x86_64.whl (748.8MB)\n",
            "\u001b[K     |████████████████████████████████| 748.9MB 23kB/s \n",
            "\u001b[?25hCollecting torchvision==0.4.0\n",
            "\u001b[?25l  Downloading https://files.pythonhosted.org/packages/06/e6/a564eba563f7ff53aa7318ff6aaa5bd8385cbda39ed55ba471e95af27d19/torchvision-0.4.0-cp36-cp36m-manylinux1_x86_64.whl (8.8MB)\n",
            "\u001b[K     |████████████████████████████████| 8.8MB 29.1MB/s \n",
            "\u001b[?25hRequirement already satisfied: numpy in /usr/local/lib/python3.6/dist-packages (from torch==1.2.0) (1.18.5)\n",
            "Requirement already satisfied: six in /usr/local/lib/python3.6/dist-packages (from torchvision==0.4.0) (1.15.0)\n",
            "Requirement already satisfied: pillow>=4.1.1 in /usr/local/lib/python3.6/dist-packages (from torchvision==0.4.0) (7.0.0)\n",
            "Installing collected packages: torch, torchvision\n",
            "  Found existing installation: torch 1.7.0+cu101\n",
            "    Uninstalling torch-1.7.0+cu101:\n",
            "      Successfully uninstalled torch-1.7.0+cu101\n",
            "  Found existing installation: torchvision 0.8.1+cu101\n",
            "    Uninstalling torchvision-0.8.1+cu101:\n",
            "      Successfully uninstalled torchvision-0.8.1+cu101\n",
            "Successfully installed torch-1.2.0 torchvision-0.4.0\n"
          ],
          "name": "stdout"
        }
      ]
    },
    {
      "cell_type": "code",
      "metadata": {
        "colab": {
          "base_uri": "https://localhost:8080/",
          "height": 255
        },
        "id": "NlgkKV1lK591",
        "outputId": "24302295-73ba-49ca-ba23-48bd9428a89d"
      },
      "source": [
        "!pip install Pillow==5.2.0"
      ],
      "execution_count": 6,
      "outputs": [
        {
          "output_type": "stream",
          "text": [
            "Collecting Pillow==5.2.0\n",
            "\u001b[?25l  Downloading https://files.pythonhosted.org/packages/d1/24/f53ff6b61b3d728b90934bddb4f03f8ab584a7f49299bf3bde56e2952612/Pillow-5.2.0-cp36-cp36m-manylinux1_x86_64.whl (2.0MB)\n",
            "\r\u001b[K     |▏                               | 10kB 25.1MB/s eta 0:00:01\r\u001b[K     |▎                               | 20kB 33.5MB/s eta 0:00:01\r\u001b[K     |▌                               | 30kB 38.8MB/s eta 0:00:01\r\u001b[K     |▋                               | 40kB 40.2MB/s eta 0:00:01\r\u001b[K     |▉                               | 51kB 41.4MB/s eta 0:00:01\r\u001b[K     |█                               | 61kB 43.5MB/s eta 0:00:01\r\u001b[K     |█▏                              | 71kB 30.8MB/s eta 0:00:01\r\u001b[K     |█▎                              | 81kB 27.2MB/s eta 0:00:01\r\u001b[K     |█▌                              | 92kB 26.1MB/s eta 0:00:01\r\u001b[K     |█▋                              | 102kB 24.7MB/s eta 0:00:01\r\u001b[K     |█▉                              | 112kB 24.7MB/s eta 0:00:01\r\u001b[K     |██                              | 122kB 24.7MB/s eta 0:00:01\r\u001b[K     |██▏                             | 133kB 24.7MB/s eta 0:00:01\r\u001b[K     |██▎                             | 143kB 24.7MB/s eta 0:00:01\r\u001b[K     |██▌                             | 153kB 24.7MB/s eta 0:00:01\r\u001b[K     |██▋                             | 163kB 24.7MB/s eta 0:00:01\r\u001b[K     |██▉                             | 174kB 24.7MB/s eta 0:00:01\r\u001b[K     |███                             | 184kB 24.7MB/s eta 0:00:01\r\u001b[K     |███▏                            | 194kB 24.7MB/s eta 0:00:01\r\u001b[K     |███▎                            | 204kB 24.7MB/s eta 0:00:01\r\u001b[K     |███▌                            | 215kB 24.7MB/s eta 0:00:01\r\u001b[K     |███▋                            | 225kB 24.7MB/s eta 0:00:01\r\u001b[K     |███▉                            | 235kB 24.7MB/s eta 0:00:01\r\u001b[K     |████                            | 245kB 24.7MB/s eta 0:00:01\r\u001b[K     |████▏                           | 256kB 24.7MB/s eta 0:00:01\r\u001b[K     |████▎                           | 266kB 24.7MB/s eta 0:00:01\r\u001b[K     |████▌                           | 276kB 24.7MB/s eta 0:00:01\r\u001b[K     |████▋                           | 286kB 24.7MB/s eta 0:00:01\r\u001b[K     |████▉                           | 296kB 24.7MB/s eta 0:00:01\r\u001b[K     |█████                           | 307kB 24.7MB/s eta 0:00:01\r\u001b[K     |█████▏                          | 317kB 24.7MB/s eta 0:00:01\r\u001b[K     |█████▎                          | 327kB 24.7MB/s eta 0:00:01\r\u001b[K     |█████▌                          | 337kB 24.7MB/s eta 0:00:01\r\u001b[K     |█████▋                          | 348kB 24.7MB/s eta 0:00:01\r\u001b[K     |█████▉                          | 358kB 24.7MB/s eta 0:00:01\r\u001b[K     |██████                          | 368kB 24.7MB/s eta 0:00:01\r\u001b[K     |██████▏                         | 378kB 24.7MB/s eta 0:00:01\r\u001b[K     |██████▎                         | 389kB 24.7MB/s eta 0:00:01\r\u001b[K     |██████▌                         | 399kB 24.7MB/s eta 0:00:01\r\u001b[K     |██████▋                         | 409kB 24.7MB/s eta 0:00:01\r\u001b[K     |██████▉                         | 419kB 24.7MB/s eta 0:00:01\r\u001b[K     |███████                         | 430kB 24.7MB/s eta 0:00:01\r\u001b[K     |███████▏                        | 440kB 24.7MB/s eta 0:00:01\r\u001b[K     |███████▎                        | 450kB 24.7MB/s eta 0:00:01\r\u001b[K     |███████▌                        | 460kB 24.7MB/s eta 0:00:01\r\u001b[K     |███████▋                        | 471kB 24.7MB/s eta 0:00:01\r\u001b[K     |███████▉                        | 481kB 24.7MB/s eta 0:00:01\r\u001b[K     |████████                        | 491kB 24.7MB/s eta 0:00:01\r\u001b[K     |████████▏                       | 501kB 24.7MB/s eta 0:00:01\r\u001b[K     |████████▎                       | 512kB 24.7MB/s eta 0:00:01\r\u001b[K     |████████▌                       | 522kB 24.7MB/s eta 0:00:01\r\u001b[K     |████████▋                       | 532kB 24.7MB/s eta 0:00:01\r\u001b[K     |████████▉                       | 542kB 24.7MB/s eta 0:00:01\r\u001b[K     |█████████                       | 552kB 24.7MB/s eta 0:00:01\r\u001b[K     |█████████▏                      | 563kB 24.7MB/s eta 0:00:01\r\u001b[K     |█████████▎                      | 573kB 24.7MB/s eta 0:00:01\r\u001b[K     |█████████▌                      | 583kB 24.7MB/s eta 0:00:01\r\u001b[K     |█████████▋                      | 593kB 24.7MB/s eta 0:00:01\r\u001b[K     |█████████▉                      | 604kB 24.7MB/s eta 0:00:01\r\u001b[K     |██████████                      | 614kB 24.7MB/s eta 0:00:01\r\u001b[K     |██████████▏                     | 624kB 24.7MB/s eta 0:00:01\r\u001b[K     |██████████▎                     | 634kB 24.7MB/s eta 0:00:01\r\u001b[K     |██████████▌                     | 645kB 24.7MB/s eta 0:00:01\r\u001b[K     |██████████▋                     | 655kB 24.7MB/s eta 0:00:01\r\u001b[K     |██████████▉                     | 665kB 24.7MB/s eta 0:00:01\r\u001b[K     |███████████                     | 675kB 24.7MB/s eta 0:00:01\r\u001b[K     |███████████▏                    | 686kB 24.7MB/s eta 0:00:01\r\u001b[K     |███████████▎                    | 696kB 24.7MB/s eta 0:00:01\r\u001b[K     |███████████▌                    | 706kB 24.7MB/s eta 0:00:01\r\u001b[K     |███████████▋                    | 716kB 24.7MB/s eta 0:00:01\r\u001b[K     |███████████▉                    | 727kB 24.7MB/s eta 0:00:01\r\u001b[K     |████████████                    | 737kB 24.7MB/s eta 0:00:01\r\u001b[K     |████████████▏                   | 747kB 24.7MB/s eta 0:00:01\r\u001b[K     |████████████▎                   | 757kB 24.7MB/s eta 0:00:01\r\u001b[K     |████████████▌                   | 768kB 24.7MB/s eta 0:00:01\r\u001b[K     |████████████▋                   | 778kB 24.7MB/s eta 0:00:01\r\u001b[K     |████████████▉                   | 788kB 24.7MB/s eta 0:00:01\r\u001b[K     |█████████████                   | 798kB 24.7MB/s eta 0:00:01\r\u001b[K     |█████████████▏                  | 808kB 24.7MB/s eta 0:00:01\r\u001b[K     |█████████████▎                  | 819kB 24.7MB/s eta 0:00:01\r\u001b[K     |█████████████▌                  | 829kB 24.7MB/s eta 0:00:01\r\u001b[K     |█████████████▋                  | 839kB 24.7MB/s eta 0:00:01\r\u001b[K     |█████████████▉                  | 849kB 24.7MB/s eta 0:00:01\r\u001b[K     |██████████████                  | 860kB 24.7MB/s eta 0:00:01\r\u001b[K     |██████████████▏                 | 870kB 24.7MB/s eta 0:00:01\r\u001b[K     |██████████████▎                 | 880kB 24.7MB/s eta 0:00:01\r\u001b[K     |██████████████▌                 | 890kB 24.7MB/s eta 0:00:01\r\u001b[K     |██████████████▋                 | 901kB 24.7MB/s eta 0:00:01\r\u001b[K     |██████████████▉                 | 911kB 24.7MB/s eta 0:00:01\r\u001b[K     |███████████████                 | 921kB 24.7MB/s eta 0:00:01\r\u001b[K     |███████████████▏                | 931kB 24.7MB/s eta 0:00:01\r\u001b[K     |███████████████▎                | 942kB 24.7MB/s eta 0:00:01\r\u001b[K     |███████████████▌                | 952kB 24.7MB/s eta 0:00:01\r\u001b[K     |███████████████▋                | 962kB 24.7MB/s eta 0:00:01\r\u001b[K     |███████████████▉                | 972kB 24.7MB/s eta 0:00:01\r\u001b[K     |████████████████                | 983kB 24.7MB/s eta 0:00:01\r\u001b[K     |████████████████▏               | 993kB 24.7MB/s eta 0:00:01\r\u001b[K     |████████████████▎               | 1.0MB 24.7MB/s eta 0:00:01\r\u001b[K     |████████████████▌               | 1.0MB 24.7MB/s eta 0:00:01\r\u001b[K     |████████████████▋               | 1.0MB 24.7MB/s eta 0:00:01\r\u001b[K     |████████████████▉               | 1.0MB 24.7MB/s eta 0:00:01\r\u001b[K     |█████████████████               | 1.0MB 24.7MB/s eta 0:00:01\r\u001b[K     |█████████████████▏              | 1.1MB 24.7MB/s eta 0:00:01\r\u001b[K     |█████████████████▎              | 1.1MB 24.7MB/s eta 0:00:01\r\u001b[K     |█████████████████▌              | 1.1MB 24.7MB/s eta 0:00:01\r\u001b[K     |█████████████████▋              | 1.1MB 24.7MB/s eta 0:00:01\r\u001b[K     |█████████████████▉              | 1.1MB 24.7MB/s eta 0:00:01\r\u001b[K     |██████████████████              | 1.1MB 24.7MB/s eta 0:00:01\r\u001b[K     |██████████████████▏             | 1.1MB 24.7MB/s eta 0:00:01\r\u001b[K     |██████████████████▎             | 1.1MB 24.7MB/s eta 0:00:01\r\u001b[K     |██████████████████▌             | 1.1MB 24.7MB/s eta 0:00:01\r\u001b[K     |██████████████████▋             | 1.1MB 24.7MB/s eta 0:00:01\r\u001b[K     |██████████████████▉             | 1.2MB 24.7MB/s eta 0:00:01\r\u001b[K     |███████████████████             | 1.2MB 24.7MB/s eta 0:00:01\r\u001b[K     |███████████████████▏            | 1.2MB 24.7MB/s eta 0:00:01\r\u001b[K     |███████████████████▎            | 1.2MB 24.7MB/s eta 0:00:01\r\u001b[K     |███████████████████▌            | 1.2MB 24.7MB/s eta 0:00:01\r\u001b[K     |███████████████████▋            | 1.2MB 24.7MB/s eta 0:00:01\r\u001b[K     |███████████████████▉            | 1.2MB 24.7MB/s eta 0:00:01\r\u001b[K     |████████████████████            | 1.2MB 24.7MB/s eta 0:00:01\r\u001b[K     |████████████████████▏           | 1.2MB 24.7MB/s eta 0:00:01\r\u001b[K     |████████████████████▎           | 1.2MB 24.7MB/s eta 0:00:01\r\u001b[K     |████████████████████▌           | 1.3MB 24.7MB/s eta 0:00:01\r\u001b[K     |████████████████████▋           | 1.3MB 24.7MB/s eta 0:00:01\r\u001b[K     |████████████████████▉           | 1.3MB 24.7MB/s eta 0:00:01\r\u001b[K     |█████████████████████           | 1.3MB 24.7MB/s eta 0:00:01\r\u001b[K     |█████████████████████▏          | 1.3MB 24.7MB/s eta 0:00:01\r\u001b[K     |█████████████████████▎          | 1.3MB 24.7MB/s eta 0:00:01\r\u001b[K     |█████████████████████▌          | 1.3MB 24.7MB/s eta 0:00:01\r\u001b[K     |█████████████████████▋          | 1.3MB 24.7MB/s eta 0:00:01\r\u001b[K     |█████████████████████▉          | 1.3MB 24.7MB/s eta 0:00:01\r\u001b[K     |██████████████████████          | 1.4MB 24.7MB/s eta 0:00:01\r\u001b[K     |██████████████████████▏         | 1.4MB 24.7MB/s eta 0:00:01\r\u001b[K     |██████████████████████▎         | 1.4MB 24.7MB/s eta 0:00:01\r\u001b[K     |██████████████████████▌         | 1.4MB 24.7MB/s eta 0:00:01\r\u001b[K     |██████████████████████▋         | 1.4MB 24.7MB/s eta 0:00:01\r\u001b[K     |██████████████████████▉         | 1.4MB 24.7MB/s eta 0:00:01\r\u001b[K     |███████████████████████         | 1.4MB 24.7MB/s eta 0:00:01\r\u001b[K     |███████████████████████▏        | 1.4MB 24.7MB/s eta 0:00:01\r\u001b[K     |███████████████████████▎        | 1.4MB 24.7MB/s eta 0:00:01\r\u001b[K     |███████████████████████▍        | 1.4MB 24.7MB/s eta 0:00:01\r\u001b[K     |███████████████████████▋        | 1.5MB 24.7MB/s eta 0:00:01\r\u001b[K     |███████████████████████▊        | 1.5MB 24.7MB/s eta 0:00:01\r\u001b[K     |████████████████████████        | 1.5MB 24.7MB/s eta 0:00:01\r\u001b[K     |████████████████████████        | 1.5MB 24.7MB/s eta 0:00:01\r\u001b[K     |████████████████████████▎       | 1.5MB 24.7MB/s eta 0:00:01\r\u001b[K     |████████████████████████▍       | 1.5MB 24.7MB/s eta 0:00:01\r\u001b[K     |████████████████████████▋       | 1.5MB 24.7MB/s eta 0:00:01\r\u001b[K     |████████████████████████▊       | 1.5MB 24.7MB/s eta 0:00:01\r\u001b[K     |█████████████████████████       | 1.5MB 24.7MB/s eta 0:00:01\r\u001b[K     |█████████████████████████       | 1.5MB 24.7MB/s eta 0:00:01\r\u001b[K     |█████████████████████████▎      | 1.6MB 24.7MB/s eta 0:00:01\r\u001b[K     |█████████████████████████▍      | 1.6MB 24.7MB/s eta 0:00:01\r\u001b[K     |█████████████████████████▋      | 1.6MB 24.7MB/s eta 0:00:01\r\u001b[K     |█████████████████████████▊      | 1.6MB 24.7MB/s eta 0:00:01\r\u001b[K     |██████████████████████████      | 1.6MB 24.7MB/s eta 0:00:01\r\u001b[K     |██████████████████████████      | 1.6MB 24.7MB/s eta 0:00:01\r\u001b[K     |██████████████████████████▎     | 1.6MB 24.7MB/s eta 0:00:01\r\u001b[K     |██████████████████████████▍     | 1.6MB 24.7MB/s eta 0:00:01\r\u001b[K     |██████████████████████████▋     | 1.6MB 24.7MB/s eta 0:00:01\r\u001b[K     |██████████████████████████▊     | 1.6MB 24.7MB/s eta 0:00:01\r\u001b[K     |███████████████████████████     | 1.7MB 24.7MB/s eta 0:00:01\r\u001b[K     |███████████████████████████     | 1.7MB 24.7MB/s eta 0:00:01\r\u001b[K     |███████████████████████████▎    | 1.7MB 24.7MB/s eta 0:00:01\r\u001b[K     |███████████████████████████▍    | 1.7MB 24.7MB/s eta 0:00:01\r\u001b[K     |███████████████████████████▋    | 1.7MB 24.7MB/s eta 0:00:01\r\u001b[K     |███████████████████████████▊    | 1.7MB 24.7MB/s eta 0:00:01\r\u001b[K     |████████████████████████████    | 1.7MB 24.7MB/s eta 0:00:01\r\u001b[K     |████████████████████████████    | 1.7MB 24.7MB/s eta 0:00:01\r\u001b[K     |████████████████████████████▎   | 1.7MB 24.7MB/s eta 0:00:01\r\u001b[K     |████████████████████████████▍   | 1.8MB 24.7MB/s eta 0:00:01\r\u001b[K     |████████████████████████████▋   | 1.8MB 24.7MB/s eta 0:00:01\r\u001b[K     |████████████████████████████▊   | 1.8MB 24.7MB/s eta 0:00:01\r\u001b[K     |█████████████████████████████   | 1.8MB 24.7MB/s eta 0:00:01\r\u001b[K     |█████████████████████████████   | 1.8MB 24.7MB/s eta 0:00:01\r\u001b[K     |█████████████████████████████▎  | 1.8MB 24.7MB/s eta 0:00:01\r\u001b[K     |█████████████████████████████▍  | 1.8MB 24.7MB/s eta 0:00:01\r\u001b[K     |█████████████████████████████▋  | 1.8MB 24.7MB/s eta 0:00:01\r\u001b[K     |█████████████████████████████▊  | 1.8MB 24.7MB/s eta 0:00:01\r\u001b[K     |██████████████████████████████  | 1.8MB 24.7MB/s eta 0:00:01\r\u001b[K     |██████████████████████████████  | 1.9MB 24.7MB/s eta 0:00:01\r\u001b[K     |██████████████████████████████▎ | 1.9MB 24.7MB/s eta 0:00:01\r\u001b[K     |██████████████████████████████▍ | 1.9MB 24.7MB/s eta 0:00:01\r\u001b[K     |██████████████████████████████▋ | 1.9MB 24.7MB/s eta 0:00:01\r\u001b[K     |██████████████████████████████▊ | 1.9MB 24.7MB/s eta 0:00:01\r\u001b[K     |███████████████████████████████ | 1.9MB 24.7MB/s eta 0:00:01\r\u001b[K     |███████████████████████████████ | 1.9MB 24.7MB/s eta 0:00:01\r\u001b[K     |███████████████████████████████▎| 1.9MB 24.7MB/s eta 0:00:01\r\u001b[K     |███████████████████████████████▍| 1.9MB 24.7MB/s eta 0:00:01\r\u001b[K     |███████████████████████████████▋| 1.9MB 24.7MB/s eta 0:00:01\r\u001b[K     |███████████████████████████████▊| 2.0MB 24.7MB/s eta 0:00:01\r\u001b[K     |████████████████████████████████| 2.0MB 24.7MB/s eta 0:00:01\r\u001b[K     |████████████████████████████████| 2.0MB 24.7MB/s \n",
            "\u001b[31mERROR: albumentations 0.1.12 has requirement imgaug<0.2.7,>=0.2.5, but you'll have imgaug 0.2.9 which is incompatible.\u001b[0m\n",
            "\u001b[?25hInstalling collected packages: Pillow\n",
            "  Found existing installation: Pillow 7.0.0\n",
            "    Uninstalling Pillow-7.0.0:\n",
            "      Successfully uninstalled Pillow-7.0.0\n",
            "Successfully installed Pillow-5.2.0\n"
          ],
          "name": "stdout"
        },
        {
          "output_type": "display_data",
          "data": {
            "application/vnd.colab-display-data+json": {
              "pip_warning": {
                "packages": [
                  "PIL"
                ]
              }
            }
          },
          "metadata": {
            "tags": []
          }
        }
      ]
    },
    {
      "cell_type": "markdown",
      "metadata": {
        "id": "GZshH0u2dbWb"
      },
      "source": [
        "# LOAD DATASET"
      ]
    },
    {
      "cell_type": "code",
      "metadata": {
        "colab": {
          "base_uri": "https://localhost:8080/"
        },
        "id": "iVAi4Q6adUeR",
        "outputId": "38ec357c-0100-4740-b0bf-20307a8b4d27"
      },
      "source": [
        "cd /content/tirg"
      ],
      "execution_count": 1,
      "outputs": [
        {
          "output_type": "stream",
          "text": [
            "/content/tirg\n"
          ],
          "name": "stdout"
        }
      ]
    },
    {
      "cell_type": "code",
      "metadata": {
        "id": "OD8iosGbdh1O"
      },
      "source": [
        "class Opt:\n",
        "    def __init__(self):\n",
        "        self.dataset = \"fashion200k\"\n",
        "        self.dataset_path = \"/content/Fashion200k\"\n",
        "        self.batch_size = 32\n",
        "        self.embed_dim = 512\n",
        "        self.hashing = True\n",
        "        self.retrieve_by_random = True\n",
        "        self.model = \"tirg\"\n",
        "        self.learning_rate = 1e-2\n",
        "        self.weight_decay = 1e-6\n",
        "        self.pretrained_model = \"/content/drive/MyDrive/TIRG/checkpoint_fashion200k.pth\""
      ],
      "execution_count": 2,
      "outputs": []
    },
    {
      "cell_type": "code",
      "metadata": {
        "id": "IdB0YklCdkpC"
      },
      "source": [
        "from test_retrieval import test\n",
        "from main import load_dataset, create_model_and_optimizer\n",
        "\n",
        "opt = Opt()\n",
        "trainset, testset = load_dataset(opt)\n",
        "model, _ = create_model_and_optimizer(opt, [t for t in trainset.get_all_texts()])\n",
        "model.eval()"
      ],
      "execution_count": null,
      "outputs": []
    },
    {
      "cell_type": "markdown",
      "metadata": {
        "id": "3S-Bs8H-jVI5"
      },
      "source": [
        "Compute all images feature"
      ]
    },
    {
      "cell_type": "code",
      "metadata": {
        "colab": {
          "base_uri": "https://localhost:8080/"
        },
        "id": "1mS7tC5-hxbv",
        "outputId": "f3588fca-b00e-4d8e-dc84-9f1203576d14"
      },
      "source": [
        "from tqdm import tqdm\n",
        "import torch\n",
        "import numpy as np\n",
        "\n",
        "all_imgs = []\n",
        "imgs = []\n",
        "for i in tqdm(range(len(testset.imgs))):\n",
        "    imgs += [testset.get_img(i)]\n",
        "    if len(imgs) >= opt.batch_size or i == len(testset.imgs) - 1:\n",
        "        if 'torch' not in str(type(imgs[0])):\n",
        "            imgs = [torch.from_numpy(d).float() for d in imgs]\n",
        "        imgs = torch.stack(imgs).float()\n",
        "\n",
        "        if torch.cuda.is_available():\n",
        "            imgs = torch.autograd.Variable(imgs).cuda()\n",
        "        else:\n",
        "            imgs = torch.autograd.Variable(imgs).cpu()\n",
        "\n",
        "        imgs = model.extract_img_feature(imgs).data.cpu().numpy()\n",
        "        all_imgs += [imgs]\n",
        "        imgs = []\n",
        "all_imgs = np.concatenate(all_imgs)\n",
        "all_captions = [img['captions'][0] for img in testset.imgs]"
      ],
      "execution_count": 13,
      "outputs": [
        {
          "output_type": "stream",
          "text": [
            "100%|██████████| 29789/29789 [03:47<00:00, 131.22it/s]\n"
          ],
          "name": "stderr"
        }
      ]
    },
    {
      "cell_type": "markdown",
      "metadata": {
        "id": "ekJvwwFyjzwN"
      },
      "source": [
        "Compute all queries feature"
      ]
    },
    {
      "cell_type": "code",
      "metadata": {
        "colab": {
          "base_uri": "https://localhost:8080/"
        },
        "id": "yuWzN0pBj5Or",
        "outputId": "7135b5f0-4203-48a1-9c60-69874dfbf42a"
      },
      "source": [
        "imgs = []\n",
        "mods = []\n",
        "all_queries = []\n",
        "test_queries = testset.get_test_queries()\n",
        "for t in tqdm(test_queries):\n",
        "    imgs += [testset.get_img(t['source_img_id'])]\n",
        "    mods += [t['mod']['str']]\n",
        "    if len(imgs) >= opt.batch_size or t is test_queries[-1]:\n",
        "        if 'torch' not in str(type(imgs[0])):\n",
        "            imgs = [torch.from_numpy(d).float() for d in imgs]\n",
        "        imgs = torch.stack(imgs).float()\n",
        "\n",
        "        if torch.cuda.is_available():\n",
        "            imgs = torch.autograd.Variable(imgs).cuda()\n",
        "        else:\n",
        "            imgs = torch.autograd.Variable(imgs).cpu()\n",
        "\n",
        "        mods = [t for t in mods]\n",
        "        f = model.compose_img_text(imgs, mods).data.cpu().numpy()\n",
        "        all_queries += [f]\n",
        "        imgs = []\n",
        "        mods = []\n",
        "all_queries = np.concatenate(all_queries)\n",
        "all_target_captions = [t['target_caption'] for t in test_queries]"
      ],
      "execution_count": 14,
      "outputs": [
        {
          "output_type": "stream",
          "text": [
            "  0%|          | 14/33480 [00:00<04:01, 138.80it/s]/usr/local/lib/python3.6/dist-packages/torch/nn/functional.py:1350: UserWarning: nn.functional.sigmoid is deprecated. Use torch.sigmoid instead.\n",
            "  warnings.warn(\"nn.functional.sigmoid is deprecated. Use torch.sigmoid instead.\")\n",
            "100%|██████████| 33480/33480 [04:16<00:00, 130.39it/s]\n"
          ],
          "name": "stderr"
        }
      ]
    },
    {
      "cell_type": "code",
      "metadata": {
        "id": "igaM8ISYkHC6"
      },
      "source": [
        "for i in range(all_queries.shape[0]):\n",
        "    all_queries[i, :] /= np.linalg.norm(all_queries[i, :])\n",
        "for i in range(all_imgs.shape[0]):\n",
        "    all_imgs[i, :] /= np.linalg.norm(all_imgs[i, :])"
      ],
      "execution_count": 15,
      "outputs": []
    },
    {
      "cell_type": "code",
      "metadata": {
        "id": "yIQagWaKmirM"
      },
      "source": [
        "# Create random queries\n",
        "id_random = np.random.choice(all_queries.shape[0], 3000)\n",
        "queries_feature = []\n",
        "for id in id_random:\n",
        "    queries_feature += [all_queries[id]]\n",
        "\n",
        "queries_feature = np.array(queries_feature)"
      ],
      "execution_count": 30,
      "outputs": []
    },
    {
      "cell_type": "markdown",
      "metadata": {
        "id": "08HVkeSij9ay"
      },
      "source": [
        "# Normal"
      ]
    },
    {
      "cell_type": "code",
      "metadata": {
        "colab": {
          "base_uri": "https://localhost:8080/"
        },
        "id": "80vLcayhfA5z",
        "outputId": "aa0502c4-b48b-4bde-e63f-d4833e04df53"
      },
      "source": [
        "import time\n",
        "\n",
        "tic = time.time()\n",
        "sims = queries_feature.dot(all_imgs.T)\n",
        "for i, t in enumerate(test_queries):\n",
        "\ttry:\n",
        "\t\tsims[i, t[\"source_img_id\"]] = -10e10  # remove query image\n",
        "\texcept:\n",
        "\t\tpass\n",
        "\n",
        "nn_result = [np.argsort(-sims[i, :])[:110] for i in range(sims.shape[0])]\n",
        "out = []\n",
        "nn_result = [[all_captions[nn] for nn in nns] for nns in nn_result]\n",
        "for k in [1, 5, 10, 50, 100]:\n",
        "    r = 0.0\n",
        "    # for i, nns in enumerate(nn_result):\n",
        "    for id, nns in zip(id_random, nn_result):\n",
        "        if all_target_captions[id] in nns[:k]:\n",
        "            r += 1\n",
        "    r /= len(nn_result)\n",
        "    out += [('recall_top' + str(k) + '_correct_composition', r)]\n",
        "tac = time.time()\n",
        "print(out)\n",
        "print(f\"{round(tac - tic, 3)}s\")"
      ],
      "execution_count": 31,
      "outputs": [
        {
          "output_type": "stream",
          "text": [
            "[('recall_top1_correct_composition', 0.025), ('recall_top5_correct_composition', 0.08766666666666667), ('recall_top10_correct_composition', 0.12533333333333332), ('recall_top50_correct_composition', 0.3006666666666667), ('recall_top100_correct_composition', 0.39566666666666667)]\n",
            "8.238s\n"
          ],
          "name": "stdout"
        }
      ]
    },
    {
      "cell_type": "markdown",
      "metadata": {
        "id": "Zd8cl_aSqIhX"
      },
      "source": [
        "# Hashing"
      ]
    },
    {
      "cell_type": "code",
      "metadata": {
        "id": "7HtxJRBtqOeG"
      },
      "source": [
        "from LSH import create_hash_table\n",
        "\n",
        "def compute_similary_by_hasing(all_imgs_feature, queries_feature, test_queries):\n",
        "\thash_table = create_hash_table(all_imgs_feature, 10, 512)\n",
        "\tsims = []\n",
        "\tfor i, query in enumerate(queries_feature):\n",
        "\t\tidx_imgs = hash_table.__getitem__(query)\n",
        "\t\tspatial_search = np.array([all_imgs_feature[i] for i in idx_imgs])\n",
        "\t\tif spatial_search.shape[0] != 0:\n",
        "\t\t\tdis_value = query.dot(spatial_search.T)\n",
        "\t\t\tsim = np.full(all_imgs_feature.shape[0], -10e10)\n",
        "\t\t\tfor i in idx_imgs:\n",
        "\t\t\t\tsim[i] = dis_value[0]\n",
        "\t\t\t\tdis_value = dis_value[1:]\n",
        "\t\telse:\n",
        "\t\t\tsim = query.dot(all_imgs_feature.T)\n",
        "\n",
        "\t\tsim[test_queries[i]['source_img_id']] = -10e10\n",
        "\t\tsims += [sim]\n",
        "\n",
        "\treturn np.array(sims)"
      ],
      "execution_count": 18,
      "outputs": []
    },
    {
      "cell_type": "code",
      "metadata": {
        "colab": {
          "base_uri": "https://localhost:8080/"
        },
        "id": "pSgb4u1eqSno",
        "outputId": "10a2b478-e706-4ad1-a523-6eeb7ccf288d"
      },
      "source": [
        "tic = time.time()\n",
        "sims = compute_similary_by_hasing(all_imgs, queries_feature, test_queries)\n",
        "nn_result = [np.argsort(-sims[i, :])[:100] for i in range(sims.shape[0])]\n",
        "out = []\n",
        "nn_result = [[all_captions[nn] for nn in nns] for nns in nn_result]\n",
        "for k in [1, 5, 10, 50, 100]:\n",
        "    r = 0.0\n",
        "    # for i, nns in enumerate(nn_result):\n",
        "    for id, nns in zip(id_random, nn_result):\n",
        "        if all_target_captions[id] in nns[:k]:\n",
        "            r += 1\n",
        "    r /= len(nn_result)\n",
        "    out += [('recall_top' + str(k) + '_correct_composition', r)]\n",
        "tac = time.time()\n",
        "print(out)\n",
        "print(f\"{round(tac - tic, 3)}s\")"
      ],
      "execution_count": 35,
      "outputs": [
        {
          "output_type": "stream",
          "text": [
            "[('recall_top1_correct_composition', 0.028), ('recall_top5_correct_composition', 0.06733333333333333), ('recall_top10_correct_composition', 0.10233333333333333), ('recall_top50_correct_composition', 0.215), ('recall_top100_correct_composition', 0.25166666666666665)]\n",
            "5.535s\n"
          ],
          "name": "stdout"
        }
      ]
    }
  ]
}